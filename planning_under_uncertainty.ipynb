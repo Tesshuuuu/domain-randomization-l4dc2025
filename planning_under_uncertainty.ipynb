{
  "cells": [
    {
      "cell_type": "code",
      "execution_count": 1,
      "metadata": {
        "id": "Z66dACQLci7d"
      },
      "outputs": [],
      "source": [
        "import jax\n",
        "import jax.numpy as jnp\n",
        "import jax.random as jr\n",
        "import optax\n",
        "import gym\n",
        "import numpy as np\n",
        "import matplotlib.pyplot as plt\n",
        "from jax import jit\n",
        "from functools import partial\n",
        "from typing import Union, Optional, Any"
      ]
    },
    {
      "cell_type": "code",
      "execution_count": 2,
      "metadata": {
        "id": "V5BawctQ5HX-"
      },
      "outputs": [],
      "source": [
        "def get_true_model(params):\n",
        "  g, m, l = params\n",
        "  dt = 0.05\n",
        "  max_speed = 8\n",
        "  max_torque = 2\n",
        "\n",
        "  @jit\n",
        "  def predict(key, obs, action):\n",
        "    u = jnp.clip(action + jr.normal(key), -max_torque, max_torque)\n",
        "    th, thdot = obs[:2]\n",
        "    th = angle_from_state(obs)\n",
        "    thdot = obs[2]\n",
        "    newthdot = thdot + (3 * g / (2 * l) * jnp.sin(th) + 3.0 / (m * l**2) * u) * dt\n",
        "    newthdot = jnp.clip(newthdot, -max_speed, max_speed)\n",
        "    newth = th + newthdot * dt\n",
        "    return jnp.asarray([jnp.cos(newth), jnp.sin(newth), newthdot], dtype=np.float32)\n",
        "\n",
        "  return predict\n",
        "\n",
        "params = (9.81, 1.0, 1.0)\n",
        "true_model = get_true_model(params)\n",
        "true_param = jnp.array(params)"
      ]
    },
    {
      "cell_type": "code",
      "execution_count": 3,
      "metadata": {
        "id": "1hFLL2sldHkR"
      },
      "outputs": [],
      "source": [
        "ce_params = jnp.array([[9.81, 0.9, 1.0]])\n",
        "dr_params = jnp.array([[9.81, 0.8, 1.0],\n",
        "                       [9.81, 0.9, 1.0],\n",
        "                       [9.81, 1.0, 1.0]])"
      ]
    },
    {
      "cell_type": "code",
      "execution_count": 4,
      "metadata": {
        "id": "ZT6QxEEA7VGo"
      },
      "outputs": [],
      "source": [
        "@jit\n",
        "def angle_from_state(state):\n",
        "    cos_th, sin_th, _ = state\n",
        "    return jnp.arctan2(sin_th, cos_th)\n",
        "@jit\n",
        "def cost_function(state, action):\n",
        "    theta = angle_from_state(state)\n",
        "    theta_dot = state[2]\n",
        "    return jax.lax.cond(theta**2 < (jnp.pi/4)**2, lambda: (theta)**2 + 0.1*(theta_dot**2) + 2.0*(action**2), lambda: 50.0)\n",
        "\n",
        "def predict(obs, action, param):\n",
        "\n",
        "  g, m, l = param\n",
        "  max_speed = 8\n",
        "  max_torque = 2\n",
        "  dt = 0.05\n",
        "  u = jnp.clip(action, -max_torque, max_torque)\n",
        "  th, thdot = obs[:2]\n",
        "  th = angle_from_state(obs)\n",
        "  thdot = obs[2]\n",
        "  newthdot = thdot + (3 * g / (2 * l) * jnp.sin(th) + 3.0 / (m * l**2) * u) * dt\n",
        "  newthdot = jnp.clip(newthdot, -max_speed, max_speed)\n",
        "  newth = th + newthdot * dt\n",
        "  return jnp.asarray([jnp.cos(newth), jnp.sin(newth), newthdot], dtype=np.float32)\n",
        "\n",
        "@jit\n",
        "def rollout_cost_target(params, init_state, seq):\n",
        "    average_cost = 0.0\n",
        "    for param in params:\n",
        "      total_cost = 0.0\n",
        "      s = init_state\n",
        "      for a in seq:\n",
        "          total_cost += cost_function(s, a)\n",
        "          s = predict(s,a,param)\n",
        "      average_cost += total_cost/len(params)\n",
        "    return average_cost\n",
        "\n",
        "@partial(jit, static_argnums=(3,4,5,6,7,8))\n",
        "def cem_planner(\n",
        "    params,\n",
        "    current_state,\n",
        "    subkey,\n",
        "    horizon=20,\n",
        "    n_samples=1000,\n",
        "    n_elite=100,\n",
        "    n_iterations=10,\n",
        "    action_min=-2.0,\n",
        "    action_max=2.0,\n",
        "):\n",
        "    key = subkey\n",
        "    mean = jnp.zeros((horizon, 1))\n",
        "    std = jnp.ones((horizon, 1)) * 0.5\n",
        "\n",
        "    @partial(jit, static_argnums=(3,))\n",
        "    def sample_actions(rng_key, mean, std, n_samples):\n",
        "        eps = jr.normal(rng_key, shape=(n_samples, horizon))\n",
        "        seq = mean + std * eps\n",
        "        return jnp.clip(seq, action_min, action_max)\n",
        "\n",
        "    @jit\n",
        "    def step(carry, key):\n",
        "        mean, std = carry\n",
        "        seqs = sample_actions(key, mean[:, 0], std[:, 0], n_samples)  # (n_samples, horizon\n",
        "\n",
        "        costs = jax.vmap(lambda seq: rollout_cost_target(params, current_state, seq))(seqs)\n",
        "        idx_sorted = jnp.argsort(costs)\n",
        "        elites = seqs[idx_sorted[:n_elite], :]\n",
        "        mean = jnp.mean(elites, axis=0)\n",
        "        std = jnp.std(elites, axis=0) + 1e-6\n",
        "        return (mean[:,None], std[:,None]), None\n",
        "\n",
        "    keys = jr.split(key, n_iterations)\n",
        "    (mean, std), _ = jax.lax.scan(step, (mean, std), keys)\n",
        "\n",
        "    best_sequence = mean\n",
        "    best_action = jnp.clip(best_sequence[0][0], action_min, action_max)\n",
        "    return best_action\n",
        "\n",
        "@jit\n",
        "def step(carry, keys):\n",
        "  key1, key2 = keys\n",
        "  s, reward, params = carry\n",
        "  a = cem_planner(params, s, key1)\n",
        "  a_np = jnp.array([a])\n",
        "  reward += cost_function(s, a)\n",
        "  s  = true_model(key2, s, a)\n",
        "  return (s, reward, params), None\n",
        "\n",
        "@jit\n",
        "def single_evaluate(params, key, traj_length=200):\n",
        "    s = jnp.array([1.0, 0.0, 0.0])\n",
        "    reward = 0\n",
        "    keys = jr.split(key, 2*traj_length)\n",
        "    dyn_keys = keys[:traj_length]\n",
        "    act_keys = keys[traj_length:]\n",
        "    (s, reward, _), _ = jax.lax.scan(step, (s, reward, params), (dyn_keys, act_keys))\n",
        "\n",
        "    return reward\n",
        "\n",
        "@partial(jit, static_argnums=(2,))\n",
        "def evaluate(params, key, n_eval=30):\n",
        "  eval_keys = jr.split(key, n_eval)\n",
        "  evaluate_multiple = jax.vmap(single_evaluate, in_axes=(None,0))\n",
        "  return jnp.mean(evaluate_multiple(params, eval_keys))\n",
        "\n",
        "# print(evaluate(ce_params, jr.PRNGKey(0)))\n",
        "# print(evaluate(dr_params, jr.PRNGKey(0)))"
      ]
    },
    {
      "cell_type": "code",
      "execution_count": 5,
      "metadata": {
        "colab": {
          "base_uri": "https://localhost:8080/"
        },
        "id": "URpT7uJvDiHB",
        "outputId": "e4b8c7b8-4edd-4f5e-cccb-64964d4f10df"
      },
      "outputs": [
        {
          "name": "stdout",
          "output_type": "stream",
          "text": [
            "362.14877\n"
          ]
        }
      ],
      "source": [
        "ce_params = jnp.array([[9.81, 0.95, 1.0]])\n",
        "print(evaluate(ce_params, jr.PRNGKey(0)))"
      ]
    },
    {
      "cell_type": "code",
      "execution_count": 6,
      "metadata": {
        "id": "FMOVAZeFPJQ-"
      },
      "outputs": [],
      "source": [
        "def collect_step(carry, keys):\n",
        "  key1, key2 = keys\n",
        "  s, reward, params = carry\n",
        "  a = jr.normal(key1)\n",
        "  a_np = jnp.array([a])\n",
        "  snext  = true_model(key2, s, a)\n",
        "  return (snext, reward, params), (s,a)\n",
        "\n",
        "@partial(jit, static_argnums=(1,))\n",
        "def collect_traj(key, traj_length=10):\n",
        "  s = jnp.array([-1.0, 0.0, 0.0])\n",
        "  reward = 0\n",
        "  keys = jr.split(key, (2, traj_length))\n",
        "  (s_final, _, _), (states, actions) = jax.lax.scan(collect_step, (s, reward, ce_params), (keys[0], keys[1]))\n",
        "  targets = jnp.vstack([states[1:], s_final[None,:]])\n",
        "  return targets, (states, actions)\n",
        "\n",
        "@partial(jit, static_argnums=(1,))\n",
        "def collect_data(key, n_traj):\n",
        "  keys = jr.split(key, n_traj)\n",
        "  collect_multiple = jax.vmap(collect_traj, in_axes=(0))\n",
        "  return collect_multiple(keys)"
      ]
    },
    {
      "cell_type": "code",
      "execution_count": 7,
      "metadata": {
        "id": "nWw5h4tXRBKu"
      },
      "outputs": [],
      "source": [
        "from jax.scipy.optimize import minimize\n",
        "vmapped_predict = jax.vmap(predict, in_axes=(0,0,None))\n",
        "\n",
        "def est_params(data):\n",
        "  target, (states, actions) = data\n",
        "\n",
        "  def loss(params):\n",
        "    return jnp.mean((vmapped_predict(states.reshape(-1,3), actions.reshape(-1), params) - target.reshape(-1,3))**2)\n",
        "\n",
        "  result = minimize(loss, jnp.array([9.81, 1.0, 1.0]), method='BFGS')\n",
        "  return result.x\n",
        "\n",
        "# @partial(jit, static_argnums=(1,))\n",
        "def get_estimates(data, n_traj_list):\n",
        "  estimated_params = []\n",
        "  target, (states, actions) = data\n",
        "  for n_traj in n_traj_list:\n",
        "    estimated_params.append(est_params((target[:n_traj], (states[:n_traj], actions[:n_traj]))))\n",
        "  return jnp.vstack(estimated_params)"
      ]
    },
    {
      "cell_type": "code",
      "execution_count": 8,
      "metadata": {
        "colab": {
          "base_uri": "https://localhost:8080/"
        },
        "id": "XIBEXq-x7psD",
        "outputId": "f33d5583-6263-4a4e-f49c-250410be7761"
      },
      "outputs": [
        {
          "name": "stdout",
          "output_type": "stream",
          "text": [
            "trial 0\n",
            "trial 1\n",
            "trial 2\n",
            "trial 3\n",
            "trial 4\n",
            "trial 5\n",
            "trial 6\n",
            "trial 7\n",
            "trial 8\n",
            "trial 9\n",
            "trial 10\n",
            "trial 11\n",
            "trial 12\n",
            "trial 13\n",
            "trial 14\n",
            "trial 15\n",
            "trial 16\n",
            "trial 17\n",
            "trial 18\n",
            "trial 19\n",
            "trial 20\n",
            "trial 21\n",
            "trial 22\n",
            "trial 23\n",
            "trial 24\n",
            "trial 25\n",
            "trial 26\n",
            "trial 27\n",
            "trial 28\n",
            "trial 29\n",
            "trial 30\n",
            "trial 31\n",
            "trial 32\n",
            "trial 33\n",
            "trial 34\n",
            "trial 35\n",
            "trial 36\n",
            "trial 37\n",
            "trial 38\n",
            "trial 39\n",
            "trial 40\n",
            "trial 41\n",
            "trial 42\n",
            "trial 43\n",
            "trial 44\n",
            "trial 45\n",
            "trial 46\n",
            "trial 47\n",
            "trial 48\n",
            "trial 49\n",
            "trial 50\n",
            "trial 51\n",
            "trial 52\n",
            "trial 53\n",
            "trial 54\n",
            "trial 55\n",
            "trial 56\n",
            "trial 57\n",
            "trial 58\n",
            "trial 59\n",
            "trial 60\n",
            "trial 61\n",
            "trial 62\n",
            "trial 63\n",
            "trial 64\n",
            "trial 65\n",
            "trial 66\n",
            "trial 67\n",
            "trial 68\n",
            "trial 69\n",
            "trial 70\n",
            "trial 71\n",
            "trial 72\n",
            "trial 73\n",
            "trial 74\n",
            "trial 75\n",
            "trial 76\n",
            "trial 77\n",
            "trial 78\n",
            "trial 79\n",
            "trial 80\n",
            "trial 81\n",
            "trial 82\n",
            "trial 83\n",
            "trial 84\n",
            "trial 85\n",
            "trial 86\n",
            "trial 87\n",
            "trial 88\n",
            "trial 89\n",
            "trial 90\n",
            "trial 91\n",
            "trial 92\n",
            "trial 93\n",
            "trial 94\n",
            "trial 95\n",
            "trial 96\n",
            "trial 97\n",
            "trial 98\n",
            "trial 99\n"
          ]
        }
      ],
      "source": [
        "#1 Collect data and perform identification as you were doing before. However, do so using the same noise level as is here.\n",
        "#to make the average estimation error higher or lower, just change the amount of data used for identification\n",
        "\n",
        "estimated_params = []\n",
        "n_traj_tuple = (10, 25, 50, 100, 150, 200)\n",
        "n_trials = 100\n",
        "\n",
        "key = jr.PRNGKey(999)\n",
        "estimated_params = []\n",
        "for i in range(n_trials):\n",
        "  print(f'trial {i}')\n",
        "  key, subkey = jr.split(key)\n",
        "  data = collect_data(subkey, n_traj_tuple[-1])\n",
        "  estimated_params.append(get_estimates(data, n_traj_tuple))\n",
        "estimated_params = jnp.stack(estimated_params)"
      ]
    },
    {
      "cell_type": "code",
      "execution_count": 9,
      "metadata": {
        "colab": {
          "base_uri": "https://localhost:8080/",
          "height": 504
        },
        "id": "bmQLEY2Q7po4",
        "outputId": "b7835016-0ccc-4940-cd74-510a109e6b2a"
      },
      "outputs": [
        {
          "name": "stderr",
          "output_type": "stream",
          "text": [
            "/usr/local/lib/python3.11/dist-packages/ipykernel/ipkernel.py:283: DeprecationWarning: `should_run_async` will not call `transform_cell` automatically in the future. Please pass the result to `transformed_cell` argument and any exception that happen during thetransform in `preprocessing_exc_tuple` in IPython 7.17 and above.\n",
            "  and should_run_async(code)\n"
          ]
        },
        {
          "data": {
            "text/plain": [
              "[<matplotlib.lines.Line2D at 0x78d33af3f1d0>]"
            ]
          },
          "execution_count": 9,
          "metadata": {},
          "output_type": "execute_result"
        },
        {
          "data": {
            "image/png": "[encoded data removed]",
            "text/plain": [
              "<Figure size 640x480 with 1 Axes>"
            ]
          },
          "metadata": {},
          "output_type": "display_data"
        }
      ],
      "source": [
        "mean = jnp.mean(jnp.sum((estimated_params - true_param[None, None, :])**2, axis=2), axis=0)\n",
        "std = jnp.std(jnp.sum((estimated_params - true_param[None, None, :])**2, axis=2), axis=0)\n",
        "\n",
        "plt.plot(n_traj_tuple, mean)"
      ]
    },
    {
      "cell_type": "code",
      "execution_count": 10,
      "metadata": {
        "colab": {
          "base_uri": "https://localhost:8080/"
        },
        "id": "Q259S9GK7r8S",
        "outputId": "a432a9b6-b9b1-4026-a379-4f02769f8ed6"
      },
      "outputs": [
        {
          "name": "stderr",
          "output_type": "stream",
          "text": [
            "/usr/local/lib/python3.11/dist-packages/ipykernel/ipkernel.py:283: DeprecationWarning: `should_run_async` will not call `transform_cell` automatically in the future. Please pass the result to `transformed_cell` argument and any exception that happen during thetransform in `preprocessing_exc_tuple` in IPython 7.17 and above.\n",
            "  and should_run_async(code)\n"
          ]
        }
      ],
      "source": [
        "#2 Set some number of samples to use for DR. Perhaps about 10. Sample these values from mean estiamte +- (hp1, hp2, hp3)/(# samples used to fit estimate),\n",
        "#where hp1, hp2, and hp3 are hyperparameters used to determine the amount of randomization\n",
        "\n",
        "def randomize_params(key, params, scale, n_rand=15):\n",
        "  randomization_directions = jr.normal(key, shape=(n_rand, 3))\n",
        "  randomization_directions = randomization_directions/jnp.linalg.norm(randomization_directions, axis=1, keepdims=True)\n",
        "  return params[None,:] + scale*randomization_directions\n",
        "\n",
        "ce_params = estimated_params[:,:,None,:]\n",
        "\n",
        "dr_scales = []\n",
        "max_perturbation = 2.0\n",
        "for n_traj in n_traj_tuple:\n",
        "  dr_scales.append(max_perturbation/n_traj)\n",
        "dr_scales = jnp.array(dr_scales)\n",
        "\n",
        "dr_params = []\n",
        "for i in range(n_trials):\n",
        "  dr_params_trial = []\n",
        "  for j in range(len(n_traj_tuple)):\n",
        "    key, subkey = jr.split(key)\n",
        "    dr_params_trial.append(randomize_params(subkey, estimated_params[i,j], dr_scales[j]))\n",
        "  dr_params.append(jnp.stack(dr_params_trial))\n",
        "dr_params = jnp.stack(dr_params)"
      ]
    },
    {
      "cell_type": "code",
      "execution_count": 11,
      "metadata": {
        "colab": {
          "base_uri": "https://localhost:8080/"
        },
        "id": "-SAq1S4C7sCp",
        "outputId": "9ac558aa-4745-40d8-d4bf-b04567fc088a"
      },
      "outputs": [
        {
          "name": "stdout",
          "output_type": "stream",
          "text": [
            "Running trial 0 evaluation\n",
            "Running trial 1 evaluation\n",
            "Running trial 2 evaluation\n",
            "Running trial 3 evaluation\n",
            "Running trial 4 evaluation\n",
            "Running trial 5 evaluation\n",
            "Running trial 6 evaluation\n",
            "Running trial 7 evaluation\n",
            "Running trial 8 evaluation\n",
            "Running trial 9 evaluation\n",
            "Running trial 10 evaluation\n",
            "Running trial 11 evaluation\n",
            "Running trial 12 evaluation\n",
            "Running trial 13 evaluation\n",
            "Running trial 14 evaluation\n",
            "Running trial 15 evaluation\n",
            "Running trial 16 evaluation\n",
            "Running trial 17 evaluation\n",
            "Running trial 18 evaluation\n",
            "Running trial 19 evaluation\n",
            "Running trial 20 evaluation\n",
            "Running trial 21 evaluation\n",
            "Running trial 22 evaluation\n",
            "Running trial 23 evaluation\n",
            "Running trial 24 evaluation\n",
            "Running trial 25 evaluation\n",
            "Running trial 26 evaluation\n",
            "Running trial 27 evaluation\n",
            "Running trial 28 evaluation\n",
            "Running trial 29 evaluation\n",
            "Running trial 30 evaluation\n",
            "Running trial 31 evaluation\n",
            "Running trial 32 evaluation\n",
            "Running trial 33 evaluation\n",
            "Running trial 34 evaluation\n",
            "Running trial 35 evaluation\n",
            "Running trial 36 evaluation\n",
            "Running trial 37 evaluation\n",
            "Running trial 38 evaluation\n",
            "Running trial 39 evaluation\n",
            "Running trial 40 evaluation\n",
            "Running trial 41 evaluation\n",
            "Running trial 42 evaluation\n",
            "Running trial 43 evaluation\n",
            "Running trial 44 evaluation\n",
            "Running trial 45 evaluation\n",
            "Running trial 46 evaluation\n",
            "Running trial 47 evaluation\n",
            "Running trial 48 evaluation\n",
            "Running trial 49 evaluation\n",
            "Running trial 50 evaluation\n",
            "Running trial 51 evaluation\n",
            "Running trial 52 evaluation\n",
            "Running trial 53 evaluation\n",
            "Running trial 54 evaluation\n",
            "Running trial 55 evaluation\n",
            "Running trial 56 evaluation\n",
            "Running trial 57 evaluation\n",
            "Running trial 58 evaluation\n",
            "Running trial 59 evaluation\n",
            "Running trial 60 evaluation\n",
            "Running trial 61 evaluation\n",
            "Running trial 62 evaluation\n",
            "Running trial 63 evaluation\n",
            "Running trial 64 evaluation\n",
            "Running trial 65 evaluation\n",
            "Running trial 66 evaluation\n",
            "Running trial 67 evaluation\n",
            "Running trial 68 evaluation\n",
            "Running trial 69 evaluation\n",
            "Running trial 70 evaluation\n",
            "Running trial 71 evaluation\n",
            "Running trial 72 evaluation\n",
            "Running trial 73 evaluation\n",
            "Running trial 74 evaluation\n",
            "Running trial 75 evaluation\n",
            "Running trial 76 evaluation\n",
            "Running trial 77 evaluation\n",
            "Running trial 78 evaluation\n",
            "Running trial 79 evaluation\n",
            "Running trial 80 evaluation\n",
            "Running trial 81 evaluation\n",
            "Running trial 82 evaluation\n",
            "Running trial 83 evaluation\n",
            "Running trial 84 evaluation\n",
            "Running trial 85 evaluation\n",
            "Running trial 86 evaluation\n",
            "Running trial 87 evaluation\n",
            "Running trial 88 evaluation\n",
            "Running trial 89 evaluation\n",
            "Running trial 90 evaluation\n",
            "Running trial 91 evaluation\n",
            "Running trial 92 evaluation\n",
            "Running trial 93 evaluation\n",
            "Running trial 94 evaluation\n",
            "Running trial 95 evaluation\n",
            "Running trial 96 evaluation\n",
            "Running trial 97 evaluation\n",
            "Running trial 98 evaluation\n",
            "Running trial 99 evaluation\n"
          ]
        }
      ],
      "source": [
        "#3 run the evaluate function\n",
        "\n",
        "evaluate_traj = jit(jax.vmap(lambda params, key: evaluate(params,key), in_axes=(0,0)))\n",
        "\n",
        "all_ce_rewards = []\n",
        "all_dr_rewards = []\n",
        "for trial in range(n_trials):\n",
        "  print(f'Running trial {trial} evaluation')\n",
        "  key, subkey = jr.split(key)\n",
        "  eval_trial_keys = jr.split(subkey, len(n_traj_tuple))\n",
        "  all_ce_rewards.append(evaluate_traj(ce_params[trial], eval_trial_keys))\n",
        "  all_dr_rewards.append(evaluate_traj(dr_params[trial], eval_trial_keys))\n",
        "\n",
        "all_ce_rewards = jnp.stack(all_ce_rewards)\n",
        "all_dr_rewards = jnp.stack(all_dr_rewards)"
      ]
    },
    {
      "cell_type": "code",
      "execution_count": 12,
      "metadata": {
        "colab": {
          "base_uri": "https://localhost:8080/"
        },
        "id": "5C56fGX87sGw",
        "outputId": "6f9aa89d-c9c9-4e83-a892-c91b7084d011"
      },
      "outputs": [
        {
          "name": "stderr",
          "output_type": "stream",
          "text": [
            "/usr/local/lib/python3.11/dist-packages/ipykernel/ipkernel.py:283: DeprecationWarning: `should_run_async` will not call `transform_cell` automatically in the future. Please pass the result to `transformed_cell` argument and any exception that happen during thetransform in `preprocessing_exc_tuple` in IPython 7.17 and above.\n",
            "  and should_run_async(code)\n"
          ]
        }
      ],
      "source": [
        "ce_mean = jnp.mean(all_ce_rewards, axis=0)\n",
        "ce_std = jnp.std(all_ce_rewards, axis=0)\n",
        "\n",
        "dr_mean = jnp.mean(all_dr_rewards, axis=0)\n",
        "dr_std = jnp.std(all_dr_rewards, axis=0)"
      ]
    },
    {
      "cell_type": "code",
      "execution_count": 13,
      "metadata": {
        "colab": {
          "base_uri": "https://localhost:8080/"
        },
        "id": "wjDnAMMB82yy",
        "outputId": "96f0b7ce-fa2a-4381-fc48-ec5cf646acd4"
      },
      "outputs": [
        {
          "name": "stdout",
          "output_type": "stream",
          "text": [
            "CE mean: [846.75323 527.20465 380.99728 344.48245 323.85342 319.67404]\n",
            "CE std: [1349.0392   587.7926   192.20813  110.62243   80.5776    76.37928]\n",
            "DR mean: [700.8178  361.37857 301.00906 286.27335 279.64578 290.9798 ]\n",
            "DR std: [1124.0835   412.67456  136.20757   87.42824   60.88764   64.88817]\n"
          ]
        }
      ],
      "source": [
        "print(f\"CE mean: {ce_mean}\")\n",
        "print(f\"CE std: {ce_std}\")\n",
        "print(f\"DR mean: {dr_mean}\")\n",
        "print(f\"DR std: {dr_std}\")"
      ]
    },
    {
      "cell_type": "code",
      "execution_count": 14,
      "metadata": {
        "colab": {
          "base_uri": "https://localhost:8080/",
          "height": 565
        },
        "id": "oDVTeIZz7sJ4",
        "outputId": "920d0cd8-5191-4836-8e32-5b6b02615477"
      },
      "outputs": [
        {
          "data": {
            "text/plain": [
              "(250.0, 800.0)"
            ]
          },
          "execution_count": 14,
          "metadata": {},
          "output_type": "execute_result"
        },
        {
          "data": {
            "image/png": "[encoded data removed]",
            "text/plain": [
              "<Figure size 1000x600 with 1 Axes>"
            ]
          },
          "metadata": {},
          "output_type": "display_data"
        }
      ],
      "source": [
        "plt.figure(figsize=(10, 6))\n",
        "\n",
        "plt.plot(n_traj_tuple, ce_mean, color='g', label='Certainty Equivalence')\n",
        "plt.plot(n_traj_tuple, dr_mean, color='b', label='Domain Randomization')\n",
        "\n",
        "plt.fill_between(n_traj_tuple, ce_mean-ce_std/jnp.sqrt(n_trials), ce_mean+ce_std/jnp.sqrt(n_trials), alpha=0.2, color='g')\n",
        "plt.fill_between(n_traj_tuple, dr_mean-dr_std/jnp.sqrt(n_trials), dr_mean+dr_std/jnp.sqrt(n_trials), alpha=0.2, color='b')\n",
        "\n",
        "plt.xlabel('Number of Experiments')\n",
        "plt.ylabel('Cost')\n",
        "plt.legend()\n",
        "plt.grid(True)\n",
        "\n",
        "plt.ylim(250, 800)"
      ]
    }
  ],
  "metadata": {
    "accelerator": "GPU",
    "colab": {
      "gpuType": "T4",
      "provenance": []
    },
    "kernelspec": {
      "display_name": "Python 3",
      "name": "python3"
    },
    "language_info": {
      "name": "python"
    }
  },
  "nbformat": 4,
  "nbformat_minor": 0
}
